{
 "cells": [
  {
   "cell_type": "markdown",
   "metadata": {},
   "source": [
    "# Web Scraping Flipkart Using BeautifulSoup\n",
    "\n",
    "**Web scraping** is a technique used to extract data from websites. It involves fetching web pages, parsing the HTML or XML content of those pages, and then extracting useful information. Web scraping is commonly used for various purposes, including data collection, research, price comparison, monitoring, and more.\n",
    "\n",
    "Here are some key components of web scraping:\n",
    "\n",
    "HTTP Requests: Web scraping typically begins with sending HTTP requests to a website to retrieve its content. You can use libraries like requests in Python to make these requests.\n",
    "\n",
    "HTML Parsing: After obtaining the web page content, you parse the HTML (or XML) using a parser to navigate the document's structure and locate the data you want to extract.\n",
    "\n",
    "Data Extraction: You identify and extract specific data or elements from the parsed HTML content. This can include text, tables, images, links, and more.\n",
    "\n",
    "Data Cleaning: The extracted data often requires cleaning and formatting to be useful. This may include removing unnecessary characters, handling missing values, and structuring the data as needed.\n",
    "\n",
    "Storage: Finally, you can store the extracted data in a file, database, or use it for analysis, reporting, or other purposes."
   ]
  },
  {
   "cell_type": "markdown",
   "metadata": {},
   "source": [
    "**Beautiful Soup** is a Python library commonly used for web scraping. It provides tools for parsing HTML and XML documents, navigating their structure, and extracting data. Beautiful Soup is designed to make it easy to scrape information from web pages and is often used in combination with other libraries like requests to fetch web pages. Some of its key features include:\n",
    "\n",
    "Parsing: It parses HTML or XML documents and creates a parse tree, allowing you to navigate and manipulate the document's elements.\n",
    "\n",
    "Search and Navigation: Beautiful Soup provides methods for searching and navigating the parse tree, making it easy to locate specific elements in the document.\n",
    "\n",
    "Data Extraction: You can extract data from elements by accessing their attributes, text content, or child elements.\n",
    "\n",
    "Automatic Encoding Conversion: Beautiful Soup handles different character encodings and converts them to Unicode.\n",
    "\n",
    "Error Handling: It can handle poorly formatted or invalid HTML, which is common when scraping real-world websites.\n",
    "\n",
    "In summary, web scraping is the process of extracting data from websites, and Beautiful Soup is a Python library that simplifies the process of parsing and navigating HTML and XML documents for web scraping purposes.\n",
    "\n",
    "\n",
    "\n",
    "\n",
    "\n",
    "\n",
    "\n",
    "\n"
   ]
  },
  {
   "cell_type": "markdown",
   "metadata": {},
   "source": [
    "________________________________________________________________________________________________________________________________"
   ]
  },
  {
   "cell_type": "markdown",
   "metadata": {},
   "source": [
    "**OBJECTIVE** : To scrape data from a single web page of Flipkart displaying details about Smartphones under the range of Rs 2000 and to store it into csv file.\n",
    "\n",
    "**LIBRARIES** : W e are using 3 Libraries here\n",
    "1. Pandas\n",
    "2. Requests\n",
    "3. BeautifulSoup4"
   ]
  },
  {
   "cell_type": "code",
   "execution_count": 31,
   "metadata": {},
   "outputs": [],
   "source": [
    "#Import the libraries\n",
    "\n",
    "import pandas as pd              #to use DataFrames\n",
    "import requests                  #to fetch web content\n",
    "from bs4 import BeautifulSoup    #to parse and extract data from that content\n"
   ]
  },
  {
   "cell_type": "markdown",
   "metadata": {},
   "source": [
    "The process involves sending an HTTP request to a webpage, obtaining its HTML content, parsing that content with BeautifulSoup, and then using pandas to organize and analyze the data."
   ]
  },
  {
   "cell_type": "markdown",
   "metadata": {},
   "source": [
    "**NOTE**: \"from bs4 import BeautifulSoup\": This line imports the BeautifulSoup class from the bs4 module of the beautifulsoup4 library"
   ]
  },
  {
   "cell_type": "markdown",
   "metadata": {},
   "source": [
    "We need to first set our intention, i.e. what do we want to scrape? \n",
    "In this example we want to scrape the following: Mobile name, Price, Description, and rating\n"
   ]
  },
  {
   "cell_type": "code",
   "execution_count": 32,
   "metadata": {},
   "outputs": [],
   "source": [
    "# Creating lists\n",
    "Product_name=[]\n",
    "Prices=[]\n",
    "Description=[]\n",
    "Reviews=[]\n"
   ]
  },
  {
   "cell_type": "code",
   "execution_count": 33,
   "metadata": {},
   "outputs": [
    {
     "name": "stdout",
     "output_type": "stream",
     "text": [
      "<Response [200]>\n"
     ]
    }
   ],
   "source": [
    "# Storing the url in the variable\n",
    "\n",
    "url=\"https://www.flipkart.com/mobiles/~mobile-phones-under-rs20000/pr?sid=tyy%2C4io&otracker=undefined_footer_footer&page=1\"\n",
    "\n",
    "r=requests.get(url)\n",
    "print(r)\n",
    "\n",
    "#getting response as 200 indicates that we can request the html and then scrape the data tf in short the page is scrappable"
   ]
  },
  {
   "cell_type": "code",
   "execution_count": 35,
   "metadata": {},
   "outputs": [],
   "source": [
    "#Lets 1st learn how to Scrape data from a single page\n",
    "\n",
    "soup=BeautifulSoup(r.text,\"lxml\")\n",
    "#print(soup.prettify()) #printing the html of the 1st page\n",
    "\n",
    "# This will help us to retrieve data from a specific portion of the page else will strat retrieving from various parts of the page\n",
    "box=soup.find(\"div\",class_=\"_1YokD2 _3Mn1Gg\")\n",
    "#print(box)\n"
   ]
  },
  {
   "cell_type": "code",
   "execution_count": 38,
   "metadata": {},
   "outputs": [],
   "source": [
    "# Now we will start Fetching the Product name by inspecting the page and finding the class of the div where the name is stored\n",
    "#_4rR01T is the class name\n",
    "\n",
    "names= box.find_all(\"div\",class_=\"_4rR01T\")\n",
    "#print(names)\n",
    "\n"
   ]
  },
  {
   "cell_type": "code",
   "execution_count": 12,
   "metadata": {},
   "outputs": [
    {
     "name": "stdout",
     "output_type": "stream",
     "text": [
      "24\n"
     ]
    }
   ],
   "source": [
    "# Try not to run this cell again and again else it will keep on appending, adding duplicate or unnecessary values; else you will freak out like me and will run to Chatgpt for help.\n",
    "for i in names:\n",
    "    name=i.text\n",
    "    Product_name.append(name)\n",
    "\n",
    "\n",
    "print(len(Product_name))"
   ]
  },
  {
   "cell_type": "code",
   "execution_count": 13,
   "metadata": {},
   "outputs": [
    {
     "name": "stdout",
     "output_type": "stream",
     "text": [
      "['SAMSUNG Galaxy F34 5G (Orchid Violet, 128 GB)', 'SAMSUNG Galaxy F14 5G (OMG Black, 128 GB)', 'REDMI 12 (Jade Black, 128 GB)', 'vivo T2x 5G (Glimmer Black, 128 GB)', 'vivo T2x 5G (Marine Blue, 128 GB)', 'vivo T2x 5G (Marine Blue, 128 GB)', 'vivo T2x 5G (Glimmer Black, 128 GB)', 'SAMSUNG Galaxy F14 5G (GOAT Green, 128 GB)', 'vivo T2x 5G (Aurora Gold, 128 GB)', 'vivo T2x 5G (Aurora Gold, 128 GB)', 'SAMSUNG Galaxy F14 5G (GOAT Green, 128 GB)', 'SAMSUNG Galaxy F34 5G (Electric Black, 128 GB)', 'vivo T2x 5G (Aurora Gold, 128 GB)', 'vivo T2x 5G (Marine Blue, 128 GB)', 'OnePlus Nord CE 2 Lite 5G (Blue Tide, 128 GB)', 'POCO C55 (Cool Blue, 128 GB)', 'SAMSUNG Galaxy F14 5G (B.A.E. Purple, 128 GB)', 'SAMSUNG Galaxy F14 5G (B.A.E. Purple, 128 GB)', 'POCO C55 (Power Black, 128 GB)', 'SAMSUNG Galaxy F04 (Opal Green, 64 GB)', 'SAMSUNG Galaxy F14 5G (OMG Black, 128 GB)', 'SAMSUNG Galaxy F34 5G (Orchid Violet, 128 GB)', 'OnePlus Nord CE 3 Lite 5G (Pastel Lime, 128 GB)', 'POCO C51 (Royal Blue, 64 GB)']\n"
     ]
    }
   ],
   "source": [
    "print(Product_name) # Accurate ouput"
   ]
  },
  {
   "cell_type": "code",
   "execution_count": 37,
   "metadata": {},
   "outputs": [],
   "source": [
    "# Now we will fetch the prices from the site\n",
    "#_30jeq3 _1_WHN1 is the class name\n",
    "\n",
    "prices=box.find_all(\"div\",class_=\"_30jeq3 _1_WHN1\")\n",
    "#print(prices)\n"
   ]
  },
  {
   "cell_type": "code",
   "execution_count": 15,
   "metadata": {},
   "outputs": [
    {
     "name": "stdout",
     "output_type": "stream",
     "text": [
      "['₹16,499', '₹12,490', '₹9,999', '₹14,999', '₹14,999', '₹12,999', '₹12,999', '₹11,490', '₹12,999', '₹14,999', '₹12,490', '₹16,499', '₹11,999', '₹11,999', '₹17,224', '₹7,999', '₹12,490', '₹11,490', '₹7,999', '₹6,499', '₹11,490', '₹18,499', '₹19,954', '₹6,499']\n"
     ]
    }
   ],
   "source": [
    "# Now we want to store The values into the list and remove any unncessary tags\n",
    "\n",
    "for i in prices:\n",
    "    price=i.text\n",
    "    Prices.append(price)\n",
    "\n",
    "print(Prices)"
   ]
  },
  {
   "cell_type": "code",
   "execution_count": 17,
   "metadata": {},
   "outputs": [
    {
     "name": "stdout",
     "output_type": "stream",
     "text": [
      "24\n"
     ]
    }
   ],
   "source": [
    "# Now we are going to cross check the len\n",
    "print(len(Prices))"
   ]
  },
  {
   "cell_type": "code",
   "execution_count": 36,
   "metadata": {},
   "outputs": [],
   "source": [
    "# Now we will be Fetching the Despcription\n",
    "#_1xgFaf is the class name\n",
    "\n",
    "descripts=box.find_all(\"ul\",class_=\"_1xgFaf\")\n",
    "#print(descripts)\n",
    "\n",
    "#In future I will edit the code to more column for specific data segrgation in the description part to"
   ]
  },
  {
   "cell_type": "code",
   "execution_count": 19,
   "metadata": {},
   "outputs": [
    {
     "name": "stdout",
     "output_type": "stream",
     "text": [
      "['6 GB RAM | 128 GB ROM | Expandable Upto 1 TB16.51 cm (6.5 inch) Full HD+ Display50MP (OIS) + 8MP + 2MP | 13MP Front Camera6000 mAh BatteryExynos 1280 Processor1 Year Manufacturer Warranty for Device and 6 Months Manufacturer Warranty for In-Box Accessories', '6 GB RAM | 128 GB ROM | Expandable Upto 1 TB16.76 cm (6.6 inch) Full HD+ Display50MP + 2MP | 13MP Front Camera6000 mAh BatteryExynos 1330, Octa Core Processor1 Year Manufacturer Warranty for Device and 6 Months Manufacturer Warranty for In-Box Accessories', '4 GB RAM | 128 GB ROM | Expandable Upto 1 TB17.25 cm (6.79 inch) Full HD+ Display50MP + 8MP + 2MP | 8MP Front Camera5000 mAh BatteryHelio G88 Processor1 Year Manufacturer Warranty for Phone and 6 Months Warranty for in the Box Accessories', '8 GB RAM | 128 GB ROM16.71 cm (6.58 inch) Full HD+ Display50MP + 2MP | 8MP Front Camera5000 mAh BatteryDimensity 6020 Processor1 Year of Device & 6 Months for Inbox Accessories', '8 GB RAM | 128 GB ROM16.71 cm (6.58 inch) Full HD+ Display50MP + 2MP | 8MP Front Camera5000 mAh BatteryDimensity 6020 Processor1 Year of Device & 6 Months for Inbox Accessories', '6 GB RAM | 128 GB ROM16.71 cm (6.58 inch) Full HD+ Display50MP + 2MP | 8MP Front Camera5000 mAh BatteryDimensity 6020 Processor1 Year of Device & 6 Months for Inbox Accessories', '6 GB RAM | 128 GB ROM16.71 cm (6.58 inch) Full HD+ Display50MP + 2MP | 8MP Front Camera5000 mAh BatteryDimensity 6020 Processor1 Year of Device & 6 Months for Inbox Accessories', '4 GB RAM | 128 GB ROM | Expandable Upto 1 TB16.76 cm (6.6 inch) Full HD+ Display50MP + 2MP | 13MP Front Camera6000 mAh BatteryExynos 1330, Octa Core Processor1 Year Manufacturer Warranty for Device and 6 Months Manufacturer Warranty for In-Box Accessories', '6 GB RAM | 128 GB ROM16.71 cm (6.58 inch) Full HD+ Display50MP + 2MP | 8MP Front Camera5000 mAh BatteryDimensity 6020 Processor1 Year of Device & 6 Months for Inbox Accessories', '8 GB RAM | 128 GB ROM16.71 cm (6.58 inch) Full HD+ Display50MP + 2MP | 8MP Front Camera5000 mAh BatteryDimensity 6020 Processor1 Year of Device & 6 Months for Inbox Accessories', '6 GB RAM | 128 GB ROM | Expandable Upto 1 TB16.76 cm (6.6 inch) Full HD+ Display50MP + 2MP | 13MP Front Camera6000 mAh BatteryExynos 1330, Octa Core Processor1 Year Manufacturer Warranty for Device and 6 Months Manufacturer Warranty for In-Box Accessories', '6 GB RAM | 128 GB ROM | Expandable Upto 1 TB16.51 cm (6.5 inch) Full HD+ Display50MP (OIS) + 8MP + 2MP | 13MP Front Camera6000 mAh BatteryExynos 1280 Processor1 Year Manufacturer Warranty for Device and 6 Months Manufacturer Warranty for In-Box Accessories', '4 GB RAM | 128 GB ROM16.71 cm (6.58 inch) Full HD+ Display50MP + 2MP | 8MP Front Camera5000 mAh BatteryDimensity 6020 Processor1 Year of Device & 6 Months for Inbox Accessories', '4 GB RAM | 128 GB ROM16.71 cm (6.58 inch) Full HD+ Display50MP + 2MP | 8MP Front Camera5000 mAh BatteryDimensity 6020 Processor1 Year of Device & 6 Months for Inbox Accessories', '6 GB RAM | 128 GB ROM16.74 cm (6.59 inch) Display64MP Rear Camera | 16MP Front Camera5000 mAh Battery12 Months', '6 GB RAM | 128 GB ROM | Expandable Upto 1 TB17.04 cm (6.71 inch) HD+ Display50MP Dual Rear Camera | 5MP Front Camera5000 mAh BatteryMediatek Helio G85 Processor1 Year Manufacturer Warranty for Phone and 6 Months Warranty for In the Box Accessories', '6 GB RAM | 128 GB ROM | Expandable Upto 1 TB16.76 cm (6.6 inch) Full HD+ Display50MP + 2MP | 13MP Front Camera6000 mAh BatteryExynos 1330, Octa Core Processor1 Year Manufacturer Warranty for Device and 6 Months Manufacturer Warranty for In-Box Accessories', '4 GB RAM | 128 GB ROM | Expandable Upto 1 TB16.76 cm (6.6 inch) Full HD+ Display50MP + 2MP | 13MP Front Camera6000 mAh BatteryExynos 1330, Octa Core Processor1 Year Manufacturer Warranty for Device and 6 Months Manufacturer Warranty for In-Box Accessories', '6 GB RAM | 128 GB ROM | Expandable Upto 1 TB17.04 cm (6.71 inch) HD+ Display50MP Dual Rear Camera | 5MP Front Camera5000 mAh BatteryMediatek Helio G85 Processor1 Year Manufacturer Warranty for Phone and 6 Months Warranty for In the Box Accessories', '4 GB RAM | 64 GB ROM | Expandable Upto 1 TB16.51 cm (6.5 inch) HD Display13MP + 2MP | 5MP Front Camera5000 mAh Lithium-Ion BatteryMediatek Helio P35 Processor1 Year Manufacturer Warranty for Device and 6 Months Manufacturer Warranty for In-Box Accessories', '4 GB RAM | 128 GB ROM | Expandable Upto 1 TB16.76 cm (6.6 inch) Full HD+ Display50MP + 2MP | 13MP Front Camera6000 mAh BatteryExynos 1330, Octa Core Processor1 Year Manufacturer Warranty for Device and 6 Months Manufacturer Warranty for In-Box Accessories', '8 GB RAM | 128 GB ROM | Expandable Upto 1 TB16.51 cm (6.5 inch) Full HD+ Display50MP (OIS) + 8MP + 2MP | 13MP Front Camera6000 mAh BatteryExynos 1280 Processor1 Year Manufacturer Warranty for Device and 6 Months Manufacturer Warranty for In-Box Accessories', '8 GB RAM | 128 GB ROM17.07 cm (6.72 inch) Display108MP Rear Camera5000 mAh BatteryDomestic Warranty of 12 months on phone & 6 months on accessories', '4 GB RAM | 64 GB ROM | Expandable Upto 1 TB16.56 cm (6.52 inch) HD+ Display8MP Dual Rear Camera | 5MP Front Camera5000 mAh BatteryHelio G36 Processor1 Year Manufacturer Warranty for Phone and 6 Months Warranty for in the Box Accessories']\n"
     ]
    }
   ],
   "source": [
    "# Once we have fetched the data, lets add it to the list\n",
    "\n",
    "for i in descripts:\n",
    "    des=i.text\n",
    "    Description.append(des)\n",
    "    \n",
    "print(Description)"
   ]
  },
  {
   "cell_type": "code",
   "execution_count": 39,
   "metadata": {},
   "outputs": [],
   "source": [
    "# Once we are done with our description part, lets proceed to the review part\n",
    "#_3LWZlK is the class name\n",
    "\n",
    "reviews=box.find_all(\"div\",class_=\"_3LWZlK\")\n",
    "#print(reviews)"
   ]
  },
  {
   "cell_type": "code",
   "execution_count": 21,
   "metadata": {},
   "outputs": [
    {
     "name": "stdout",
     "output_type": "stream",
     "text": [
      "['4.3', '4.2', '4.3', '4.3', '4.3', '4.4', '4.4', '4.2', '4.4', '4.3', '4.2', '4.3', '4.4', '4.4', '4.4', '4.2', '4.2', '4.2', '4.2', '4.2', '4.2', '4.2', '4.4', '4.1']\n"
     ]
    }
   ],
   "source": [
    "#Now lext extract the text part\n",
    "\n",
    "for i in reviews:\n",
    "    r=i.text\n",
    "    Reviews.append(r)\n",
    "    \n",
    "print(Reviews)\n",
    "\n",
    "# Checked the data and the lenght too    \n"
   ]
  },
  {
   "cell_type": "code",
   "execution_count": 22,
   "metadata": {},
   "outputs": [
    {
     "name": "stdout",
     "output_type": "stream",
     "text": [
      "24\n"
     ]
    }
   ],
   "source": [
    "print(len(Reviews))"
   ]
  },
  {
   "cell_type": "code",
   "execution_count": 23,
   "metadata": {},
   "outputs": [
    {
     "name": "stdout",
     "output_type": "stream",
     "text": [
      "24\n"
     ]
    }
   ],
   "source": [
    "print(len(Description))"
   ]
  },
  {
   "cell_type": "code",
   "execution_count": 25,
   "metadata": {},
   "outputs": [
    {
     "name": "stdout",
     "output_type": "stream",
     "text": [
      "                                       Product Name   Prices  \\\n",
      "0     SAMSUNG Galaxy F34 5G (Orchid Violet, 128 GB)  ₹16,499   \n",
      "1         SAMSUNG Galaxy F14 5G (OMG Black, 128 GB)  ₹12,490   \n",
      "2                     REDMI 12 (Jade Black, 128 GB)   ₹9,999   \n",
      "3               vivo T2x 5G (Glimmer Black, 128 GB)  ₹14,999   \n",
      "4                 vivo T2x 5G (Marine Blue, 128 GB)  ₹14,999   \n",
      "5                 vivo T2x 5G (Marine Blue, 128 GB)  ₹12,999   \n",
      "6               vivo T2x 5G (Glimmer Black, 128 GB)  ₹12,999   \n",
      "7        SAMSUNG Galaxy F14 5G (GOAT Green, 128 GB)  ₹11,490   \n",
      "8                 vivo T2x 5G (Aurora Gold, 128 GB)  ₹12,999   \n",
      "9                 vivo T2x 5G (Aurora Gold, 128 GB)  ₹14,999   \n",
      "10       SAMSUNG Galaxy F14 5G (GOAT Green, 128 GB)  ₹12,490   \n",
      "11   SAMSUNG Galaxy F34 5G (Electric Black, 128 GB)  ₹16,499   \n",
      "12                vivo T2x 5G (Aurora Gold, 128 GB)  ₹11,999   \n",
      "13                vivo T2x 5G (Marine Blue, 128 GB)  ₹11,999   \n",
      "14    OnePlus Nord CE 2 Lite 5G (Blue Tide, 128 GB)  ₹17,224   \n",
      "15                     POCO C55 (Cool Blue, 128 GB)   ₹7,999   \n",
      "16    SAMSUNG Galaxy F14 5G (B.A.E. Purple, 128 GB)  ₹12,490   \n",
      "17    SAMSUNG Galaxy F14 5G (B.A.E. Purple, 128 GB)  ₹11,490   \n",
      "18                   POCO C55 (Power Black, 128 GB)   ₹7,999   \n",
      "19           SAMSUNG Galaxy F04 (Opal Green, 64 GB)   ₹6,499   \n",
      "20        SAMSUNG Galaxy F14 5G (OMG Black, 128 GB)  ₹11,490   \n",
      "21    SAMSUNG Galaxy F34 5G (Orchid Violet, 128 GB)  ₹18,499   \n",
      "22  OnePlus Nord CE 3 Lite 5G (Pastel Lime, 128 GB)  ₹19,954   \n",
      "23                     POCO C51 (Royal Blue, 64 GB)   ₹6,499   \n",
      "\n",
      "                                          Description Reviews  \n",
      "0   6 GB RAM | 128 GB ROM | Expandable Upto 1 TB16...     4.3  \n",
      "1   6 GB RAM | 128 GB ROM | Expandable Upto 1 TB16...     4.2  \n",
      "2   4 GB RAM | 128 GB ROM | Expandable Upto 1 TB17...     4.3  \n",
      "3   8 GB RAM | 128 GB ROM16.71 cm (6.58 inch) Full...     4.3  \n",
      "4   8 GB RAM | 128 GB ROM16.71 cm (6.58 inch) Full...     4.3  \n",
      "5   6 GB RAM | 128 GB ROM16.71 cm (6.58 inch) Full...     4.4  \n",
      "6   6 GB RAM | 128 GB ROM16.71 cm (6.58 inch) Full...     4.4  \n",
      "7   4 GB RAM | 128 GB ROM | Expandable Upto 1 TB16...     4.2  \n",
      "8   6 GB RAM | 128 GB ROM16.71 cm (6.58 inch) Full...     4.4  \n",
      "9   8 GB RAM | 128 GB ROM16.71 cm (6.58 inch) Full...     4.3  \n",
      "10  6 GB RAM | 128 GB ROM | Expandable Upto 1 TB16...     4.2  \n",
      "11  6 GB RAM | 128 GB ROM | Expandable Upto 1 TB16...     4.3  \n",
      "12  4 GB RAM | 128 GB ROM16.71 cm (6.58 inch) Full...     4.4  \n",
      "13  4 GB RAM | 128 GB ROM16.71 cm (6.58 inch) Full...     4.4  \n",
      "14  6 GB RAM | 128 GB ROM16.74 cm (6.59 inch) Disp...     4.4  \n",
      "15  6 GB RAM | 128 GB ROM | Expandable Upto 1 TB17...     4.2  \n",
      "16  6 GB RAM | 128 GB ROM | Expandable Upto 1 TB16...     4.2  \n",
      "17  4 GB RAM | 128 GB ROM | Expandable Upto 1 TB16...     4.2  \n",
      "18  6 GB RAM | 128 GB ROM | Expandable Upto 1 TB17...     4.2  \n",
      "19  4 GB RAM | 64 GB ROM | Expandable Upto 1 TB16....     4.2  \n",
      "20  4 GB RAM | 128 GB ROM | Expandable Upto 1 TB16...     4.2  \n",
      "21  8 GB RAM | 128 GB ROM | Expandable Upto 1 TB16...     4.2  \n",
      "22  8 GB RAM | 128 GB ROM17.07 cm (6.72 inch) Disp...     4.4  \n",
      "23  4 GB RAM | 64 GB ROM | Expandable Upto 1 TB16....     4.1  \n"
     ]
    }
   ],
   "source": [
    "#Its time for us bring all the lists under one roof! \n",
    "# We will first add them into DataFrame and then convert it into csv file\n",
    "\n",
    "df=pd.DataFrame({\"Product Name\":Product_name, \"Prices\":Prices , \"Description\":Description , \"Reviews\":Reviews})\n",
    "print(df)"
   ]
  },
  {
   "cell_type": "code",
   "execution_count": 28,
   "metadata": {},
   "outputs": [],
   "source": [
    "#creation of Excel Sheet\n",
    "df.to_csv(\"flipkart_mobiles_under20k_pd1.csv\")"
   ]
  },
  {
   "cell_type": "markdown",
   "metadata": {},
   "source": [
    "Now we have to go to the directory and check for the new csv file namely \"flipkart_mobiles_under20k_pd1.csv\".\n",
    "\n",
    "Friends this is the code for scrapping a single page, I will be uploading the code for scrapping multiple pages.It just needs an introduction of loop and a little bit of editing in the url,the rest of the code would be the same.\n",
    "\n",
    "I have also uploaded the dataset, well I have made following edits in the file\n",
    "1. Enhancement of the header\n",
    "2. Indexing started from 0, changed it to begin with 1\n",
    "3. Made changes in the currency \n",
    "And that's it!\n",
    "\n",
    "I am open to your feedback and suggestions. This is my 1st post on kaggle. I will be upskilling and posting more on the site. Looking forward to your cooperation in the journey.\n",
    "\n",
    "Till then take care and Happy Coding!\n",
    "\n"
   ]
  }
 ],
 "metadata": {
  "kernelspec": {
   "display_name": "Python 3",
   "language": "python",
   "name": "python3"
  },
  "language_info": {
   "codemirror_mode": {
    "name": "ipython",
    "version": 3
   },
   "file_extension": ".py",
   "mimetype": "text/x-python",
   "name": "python",
   "nbconvert_exporter": "python",
   "pygments_lexer": "ipython3",
   "version": "3.8.5"
  }
 },
 "nbformat": 4,
 "nbformat_minor": 4
}
